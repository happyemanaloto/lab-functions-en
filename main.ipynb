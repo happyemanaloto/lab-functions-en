{
 "cells": [
  {
   "cell_type": "markdown",
   "metadata": {},
   "source": [
    "# Functions"
   ]
  },
  {
   "cell_type": "markdown",
   "metadata": {},
   "source": [
    "On this lab we will put to practice some of the concepts we have learned on this past few days.\n",
    "\n",
    "`NOTE: On this lab you should try to write all the functions yourself using only the most basic of python syntax and without functions such as len, count, sum, max, min, in, etc. Give it a try. 🧑🏻‍💻👩🏻‍💻`\n",
    "\n",
    "The cell after each exercise contains a few tests to check if your function works as expected."
   ]
  },
  {
   "cell_type": "code",
   "execution_count": 3,
   "metadata": {},
   "outputs": [],
   "source": [
    "from mod.testing import *\n",
    "import unittest\n"
   ]
  },
  {
   "cell_type": "markdown",
   "metadata": {},
   "source": [
    "## 1. Write a function that returns the greater of two numbers"
   ]
  },
  {
   "cell_type": "code",
   "execution_count": 4,
   "metadata": {},
   "outputs": [],
   "source": [
    "def greater(a,b):\n",
    "    if a > b:\n",
    "        greater_num = a\n",
    "    else:\n",
    "        greater_num = b\n",
    "    return greater_num\n"
   ]
  },
  {
   "cell_type": "code",
   "execution_count": 5,
   "metadata": {},
   "outputs": [
    {
     "name": "stderr",
     "output_type": "stream",
     "text": [
      "....................................................................................................\n",
      "----------------------------------------------------------------------\n",
      "Ran 100 tests in 0.037s\n",
      "\n",
      "OK\n"
     ]
    }
   ],
   "source": [
    "# This will test your function \n",
    "test_greater(greater)"
   ]
  },
  {
   "cell_type": "code",
   "execution_count": null,
   "metadata": {},
   "outputs": [],
   "source": [
    "#your code here"
   ]
  },
  {
   "cell_type": "markdown",
   "metadata": {},
   "source": [
    "## 2. Now write a function that returns the largest element on a list"
   ]
  },
  {
   "cell_type": "code",
   "execution_count": 6,
   "metadata": {},
   "outputs": [],
   "source": [
    "def greatest(list_a):\n",
    "    largest_element = 0\n",
    "    for i in list_a:\n",
    "        if i > largest_element:\n",
    "            largest_element = i    \n",
    "    return largest_element"
   ]
  },
  {
   "cell_type": "code",
   "execution_count": 7,
   "metadata": {},
   "outputs": [
    {
     "name": "stderr",
     "output_type": "stream",
     "text": [
      "....................................................................................................\n",
      "----------------------------------------------------------------------\n",
      "Ran 100 tests in 0.038s\n",
      "\n",
      "OK\n"
     ]
    }
   ],
   "source": [
    "# This will test your function \n",
    "test_greatest(greatest)"
   ]
  },
  {
   "cell_type": "markdown",
   "metadata": {},
   "source": [
    "## 3. Write a function that sums all the elements on a list"
   ]
  },
  {
   "cell_type": "code",
   "execution_count": 8,
   "metadata": {},
   "outputs": [],
   "source": [
    "def sum_all(list_b):\n",
    "    sum_all_elements = 0\n",
    "    for i in list_b:\n",
    "            sum_all_elements += i\n",
    "    return sum_all_elements\n"
   ]
  },
  {
   "cell_type": "code",
   "execution_count": 9,
   "metadata": {
    "scrolled": true
   },
   "outputs": [
    {
     "name": "stderr",
     "output_type": "stream",
     "text": [
      "....................................................................................................\n",
      "----------------------------------------------------------------------\n",
      "Ran 100 tests in 0.038s\n",
      "\n",
      "OK\n"
     ]
    }
   ],
   "source": [
    "# This will test your function \n",
    "test_sum(sum_all)"
   ]
  },
  {
   "cell_type": "markdown",
   "metadata": {},
   "source": [
    "## 4. Write another function that multiplies all the elements on a list"
   ]
  },
  {
   "cell_type": "code",
   "execution_count": 184,
   "metadata": {},
   "outputs": [],
   "source": [
    "\n",
    "def mult_all(list_b):\n",
    "    if len(list_b) == 0:\n",
    "        return(print(\"list is empty!\"))\n",
    "    else:\n",
    "        all_num =  [element for element in list_b if isinstance(element, (int, float))]\n",
    "        if len(list_b) != len(all_num):\n",
    "            return (print(\"non numerical data found\"))\n",
    "        else: \n",
    "            product = 1\n",
    "            for element in all_num:\n",
    "                product *= element\n",
    "            return (product)\n"
   ]
  },
  {
   "cell_type": "code",
   "execution_count": 185,
   "metadata": {
    "scrolled": true
   },
   "outputs": [
    {
     "name": "stderr",
     "output_type": "stream",
     "text": [
      "....................................................................................................\n",
      "----------------------------------------------------------------------\n",
      "Ran 100 tests in 0.040s\n",
      "\n",
      "OK\n"
     ]
    }
   ],
   "source": [
    "# This will test your function \n",
    "test_mult(mult_all)"
   ]
  },
  {
   "cell_type": "markdown",
   "metadata": {},
   "source": [
    "## 5. Now combine those two ideas and write a function that receives a list and either \"+\" or \"*\" and outputs acordingly"
   ]
  },
  {
   "cell_type": "code",
   "execution_count": 10,
   "metadata": {},
   "outputs": [],
   "source": [
    "\n",
    "def oper_all(list_b, oper):\n",
    "    if (oper == \"+\"):\n",
    "          sum_all_elements = 0\n",
    "          for i in list_b:\n",
    "               sum_all_elements += i\n",
    "          return sum_all_elements\n",
    "    elif (oper == \"*\"):\n",
    "          if len(list_b) == 0:\n",
    "               return(print(\"list is empty!\"))\n",
    "          else:\n",
    "               all_num =  [element for element in list_b if isinstance(element, (int, float))]\n",
    "               if len(list_b) != len(all_num):\n",
    "                    return (print(\"non numerical data found\"))\n",
    "               else: \n",
    "                    product = 1\n",
    "                    for element in all_num:\n",
    "                         product *= element\n",
    "                    return (product)\n",
    "    else:\n",
    "         return(print(\"Operand is not in the list!\"))\n",
    "     "
   ]
  },
  {
   "cell_type": "code",
   "execution_count": 11,
   "metadata": {},
   "outputs": [
    {
     "name": "stderr",
     "output_type": "stream",
     "text": [
      "....................................................................................................\n",
      "----------------------------------------------------------------------\n",
      "Ran 100 tests in 0.041s\n",
      "\n",
      "OK\n"
     ]
    }
   ],
   "source": [
    "# This will test your function \n",
    "test_operations(oper_all)"
   ]
  },
  {
   "cell_type": "markdown",
   "metadata": {},
   "source": [
    "## 6. Write a function that returns the factorial of a number."
   ]
  },
  {
   "cell_type": "code",
   "execution_count": 189,
   "metadata": {},
   "outputs": [
    {
     "data": {
      "text/plain": [
       "120"
      ]
     },
     "execution_count": 189,
     "metadata": {},
     "output_type": "execute_result"
    }
   ],
   "source": [
    "def factorial(n):\n",
    "    if n == 0 or n == 1:\n",
    "        factorial_res = 1\n",
    "    else:\n",
    "        factorial_res = n * factorial(n-1)\n",
    "    return(factorial_res) \n",
    "\n",
    "factorial(5)"
   ]
  },
  {
   "cell_type": "code",
   "execution_count": null,
   "metadata": {},
   "outputs": [],
   "source": [
    "#factorial formula\n",
    "#n! = n * ( n - 1 ) *...*1\n",
    "\n",
    "# This code defines a function called \"factorial\" which takes an input \"n\". The function uses a for loop to iterate through the range of numbers \n",
    "# from 1 to n+1. For each number in that range, it multiplies the current value of x by the number in the range. At the end of the loop, \n",
    "# the function returns the final value of x, which will be the factorial of the input number \"n\".\n",
    "\n",
    "# The Factorial of a positive integer n is the product of all positive integers less than or equal to n. \n",
    "# For example, the factorial of 6 (written \"6!\") is 6 * 5 * 4 * 3 * 2 * 1 = 720.\n",
    "\n",
    "# So this function takes an input of any positive integer, and returns the factorial of that number."
   ]
  },
  {
   "cell_type": "code",
   "execution_count": 190,
   "metadata": {},
   "outputs": [
    {
     "name": "stderr",
     "output_type": "stream",
     "text": [
      "....................................................................................................\n",
      "----------------------------------------------------------------------\n",
      "Ran 100 tests in 0.040s\n",
      "\n",
      "OK\n"
     ]
    }
   ],
   "source": [
    "# This will test your function \n",
    "test_factorial(factorial)"
   ]
  },
  {
   "cell_type": "markdown",
   "metadata": {},
   "source": [
    "## 7. Write a function that takes a list and returns a list of the unique values.\n",
    "\n",
    "`NOTE: You cannot use set. 🤔`"
   ]
  },
  {
   "cell_type": "code",
   "execution_count": 12,
   "metadata": {},
   "outputs": [
    {
     "data": {
      "text/plain": [
       "[5, 4, 6, 7, 8]"
      ]
     },
     "execution_count": 12,
     "metadata": {},
     "output_type": "execute_result"
    }
   ],
   "source": [
    "lst_c = [5,4,6,5,7,7,8]\n",
    "def unique(lst_un):\n",
    "    unique_list = []\n",
    "    for item in lst_un:\n",
    "        if item not in unique_list:\n",
    "            unique_list.append(item)\n",
    "\n",
    "    return unique_list\n",
    "\n",
    "unique(lst_c)"
   ]
  },
  {
   "cell_type": "code",
   "execution_count": 13,
   "metadata": {},
   "outputs": [
    {
     "name": "stderr",
     "output_type": "stream",
     "text": [
      "....................................................................................................\n",
      "----------------------------------------------------------------------\n",
      "Ran 100 tests in 0.080s\n",
      "\n",
      "OK\n"
     ]
    }
   ],
   "source": [
    "# This will test your function \n",
    "test_unique(unique)"
   ]
  },
  {
   "cell_type": "markdown",
   "metadata": {},
   "source": [
    "## 8. Write a function that returns the mode of a list, i.e.: the element that appears the most times.\n",
    "`NOTE: You should not use count... 🧐`"
   ]
  },
  {
   "cell_type": "code",
   "execution_count": 17,
   "metadata": {},
   "outputs": [
    {
     "data": {
      "text/plain": [
       "2"
      ]
     },
     "execution_count": 17,
     "metadata": {},
     "output_type": "execute_result"
    }
   ],
   "source": [
    "list_h = [2,2,2,2,3,4,5,6,7,7,8,9,6,5,1,1,1,1]\n",
    "\n",
    "def mode_counter(arr1):\n",
    "    if len(arr1) == 0:\n",
    "        return(print(\"list is empty!\"))\n",
    "    else:    \n",
    "        counted = {}\n",
    "        for item in arr1:\n",
    "            if item in counted:\n",
    "                counted[item] += 1\n",
    "            else:\n",
    "                counted[item] = 1\n",
    "    \n",
    "    max_count = 0\n",
    "    for key, value in counted.items():\n",
    "        if value > max_count:\n",
    "            max_count = value    \n",
    "\n",
    "    mode_element = 0\n",
    "    for key, value in counted.items(): \n",
    "        if value == max_count:\n",
    "            mode_element = key\n",
    "            break\n",
    "\n",
    "    return(mode_element) \n",
    "\n",
    "    \n",
    "mode_counter(list_h)"
   ]
  },
  {
   "cell_type": "code",
   "execution_count": 18,
   "metadata": {},
   "outputs": [
    {
     "name": "stderr",
     "output_type": "stream",
     "text": [
      "....................................................................................................\n",
      "----------------------------------------------------------------------\n",
      "Ran 100 tests in 0.039s\n",
      "\n",
      "OK\n"
     ]
    }
   ],
   "source": [
    "# This will test your function \n",
    "test_mode(mode_counter)"
   ]
  },
  {
   "cell_type": "markdown",
   "metadata": {},
   "source": [
    "## 9. Write a function that calculates the standard deviation of a list.\n",
    "`NOTE: Do not use any libraries or already built functions. 😉`"
   ]
  },
  {
   "cell_type": "code",
   "execution_count": 19,
   "metadata": {},
   "outputs": [
    {
     "data": {
      "text/plain": [
       "2.2335820757003084"
      ]
     },
     "execution_count": 19,
     "metadata": {},
     "output_type": "execute_result"
    }
   ],
   "source": [
    "list_g = [1,2,4,5,6,7,5,6,7,8]\n",
    "\n",
    "def st_dev(list_sd):\n",
    "    list_sum = 0\n",
    "    list_len = 0\n",
    "\n",
    "    for item in list_sd:\n",
    "        list_sum += item\n",
    "        list_len += 1\n",
    "\n",
    "    list_ave = list_sum / list_len\n",
    "\n",
    "    data_min_ave = [item - list_ave for item in list_sd]\n",
    "    data_min_ave_sq = [item**2 for item in data_min_ave]\n",
    "\n",
    "    variance_sum=0\n",
    "\n",
    "    for item in data_min_ave_sq:\n",
    "        variance_sum += item\n",
    "    \n",
    "    variance = variance_sum / (list_len-1)\n",
    "\n",
    "    def sqrt(num):\n",
    "        a = num\n",
    "        b = (a + num /a) / 2\n",
    "        while (a - b) > 0.0000000001:\n",
    "            a = b\n",
    "            b = (a + num / a) / 2\n",
    "        return a\n",
    "    \n",
    "    std_dev = sqrt(variance)\n",
    "\n",
    "    return(std_dev)\n",
    "\n",
    "st_dev(list_g)"
   ]
  },
  {
   "cell_type": "code",
   "execution_count": 202,
   "metadata": {},
   "outputs": [
    {
     "name": "stderr",
     "output_type": "stream",
     "text": [
      "....................................................................................................\n",
      "----------------------------------------------------------------------\n",
      "Ran 100 tests in 0.042s\n",
      "\n",
      "OK\n"
     ]
    }
   ],
   "source": [
    "# This will test your function \n",
    "test_stdev(st_dev)"
   ]
  },
  {
   "cell_type": "markdown",
   "metadata": {},
   "source": [
    "## 10. Write a function to check if a string is a pangram, i.e.: if it contains all the letters of the alphabet at least once. Mind that the strings may contain characters that are not letters."
   ]
  },
  {
   "cell_type": "code",
   "execution_count": 205,
   "metadata": {},
   "outputs": [
    {
     "data": {
      "text/plain": [
       "True"
      ]
     },
     "execution_count": 205,
     "metadata": {},
     "output_type": "execute_result"
    }
   ],
   "source": [
    "check_pangram = 'The quick brown fox jumps over the lazy dog'\n",
    "\n",
    "def pangram(string):\n",
    "    capital_string = string.upper()\n",
    "    capital_string_list = [letter for letter in capital_string]\n",
    "    alphabet = ['A', 'B', 'C','D','E','F','G','H','I','J','K','L','M','N','O','P','Q','R','S','T','U','V','W','X','Y','Z']\n",
    "\n",
    "    is_pangram = True\n",
    "    \n",
    "    for item in alphabet:\n",
    "        if item not in capital_string_list:\n",
    "            is_pangram = False\n",
    "            break\n",
    "\n",
    "    return(is_pangram)\n",
    "\n",
    "pangram(check_pangram)"
   ]
  },
  {
   "cell_type": "code",
   "execution_count": 206,
   "metadata": {},
   "outputs": [
    {
     "name": "stderr",
     "output_type": "stream",
     "text": [
      "..............................\n",
      "----------------------------------------------------------------------\n",
      "Ran 30 tests in 0.013s\n",
      "\n",
      "OK\n"
     ]
    }
   ],
   "source": [
    "# This will test your function \n",
    "test_pangram(pangram)"
   ]
  },
  {
   "cell_type": "markdown",
   "metadata": {},
   "source": [
    "## 11. Write a function that receives a string of comma separated words and returns a string of comma separated words sorted alphabetically.\n",
    "\n",
    "`NOTE: You may use sorted but not split and definitely no join! 🤪`"
   ]
  },
  {
   "cell_type": "code",
   "execution_count": 207,
   "metadata": {},
   "outputs": [
    {
     "data": {
      "text/plain": [
       "'brown,dog,fox,jumps,lazy,over,quick,the,the'"
      ]
     },
     "execution_count": 207,
     "metadata": {},
     "output_type": "execute_result"
    }
   ],
   "source": [
    "check_pangram = 'the,quick,brown,fox,jumps,over,the,lazy,dog'\n",
    "\n",
    "def sort_alpha(string):\n",
    "    handler = \"\"\n",
    "    string_list = []\n",
    "    for item in string:\n",
    "        if item == \",\":\n",
    "            string_list.append(handler)\n",
    "            handler = \"\"\n",
    "        else:\n",
    "            handler +=item\n",
    "    string_list.append(handler)\n",
    "    string_list.sort()\n",
    "\n",
    "    handler2 = \"\"\n",
    "    string_list_sorted = \"\"\n",
    "    for i in range(len(string_list)):\n",
    "        string_list_sorted += string_list[i]\n",
    "        if i != (len(string_list)-1):\n",
    "            string_list_sorted += \",\"\n",
    " \n",
    "    return(string_list_sorted)\n",
    "\n",
    "sort_alpha(check_pangram)"
   ]
  },
  {
   "cell_type": "code",
   "execution_count": 208,
   "metadata": {},
   "outputs": [
    {
     "name": "stderr",
     "output_type": "stream",
     "text": [
      "....................................................................................................\n",
      "----------------------------------------------------------------------\n",
      "Ran 100 tests in 0.040s\n",
      "\n",
      "OK\n"
     ]
    }
   ],
   "source": [
    "# This will test your function \n",
    "test_alpha(sort_alpha)"
   ]
  },
  {
   "cell_type": "markdown",
   "metadata": {},
   "source": [
    "## 12. Write a function to check if a given password is strong (at least 8 characters, at least one lower case, at least one upper case, at least one number and at least one special character). It should output True if strong and False if not."
   ]
  },
  {
   "cell_type": "code",
   "execution_count": 209,
   "metadata": {},
   "outputs": [
    {
     "data": {
      "text/plain": [
       "False"
      ]
     },
     "execution_count": 209,
     "metadata": {},
     "output_type": "execute_result"
    }
   ],
   "source": [
    "import string\n",
    "\n",
    "pd = \"Correct23\"\n",
    "def check_pass(password):\n",
    "\n",
    "    sp_char_set = set(\"'~`\\\"!@#$%^&*()-_=+[{}]:;|,<>.?/\")\n",
    "    password_len = len(password)\n",
    "    \n",
    "    pd_len_correct = False\n",
    "    upper_correct = False\n",
    "    lower_correct = False\n",
    "    num_correct = False\n",
    "    sp_char_correct = False\n",
    "    all_correct = False\n",
    "\n",
    "    if password_len >= 8:\n",
    "        pd_len_correct = True   \n",
    "\n",
    "    if any(char.isupper() for char in password):\n",
    "        upper_correct = True\n",
    "    \n",
    "    if any(char.islower() for char in password):\n",
    "        lower_correct = True\n",
    "    \n",
    "    if any(char.isdigit() for char in password):\n",
    "        num_correct = True\n",
    "\n",
    "    if any(char in sp_char_set for char in password):\n",
    "        sp_char_correct = True\n",
    "\n",
    "    if pd_len_correct and upper_correct and lower_correct and num_correct and sp_char_correct:\n",
    "        all_correct = True\n",
    "\n",
    "    return(all_correct)\n",
    "\n",
    "check_pass(pd)"
   ]
  },
  {
   "cell_type": "code",
   "execution_count": 210,
   "metadata": {},
   "outputs": [
    {
     "name": "stderr",
     "output_type": "stream",
     "text": [
      "....................................................................................................\n",
      "----------------------------------------------------------------------\n",
      "Ran 100 tests in 0.040s\n",
      "\n",
      "OK\n"
     ]
    }
   ],
   "source": [
    "# This will test your function \n",
    "test_pass(check_pass)"
   ]
  }
 ],
 "metadata": {
  "kernelspec": {
   "display_name": "base",
   "language": "python",
   "name": "python3"
  },
  "language_info": {
   "codemirror_mode": {
    "name": "ipython",
    "version": 3
   },
   "file_extension": ".py",
   "mimetype": "text/x-python",
   "name": "python",
   "nbconvert_exporter": "python",
   "pygments_lexer": "ipython3",
   "version": "3.12.7"
  }
 },
 "nbformat": 4,
 "nbformat_minor": 4
}
